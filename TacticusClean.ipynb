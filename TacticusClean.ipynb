{
  "nbformat": 4,
  "nbformat_minor": 0,
  "metadata": {
    "colab": {
      "provenance": []
    },
    "kernelspec": {
      "name": "python3",
      "display_name": "Python 3"
    },
    "language_info": {
      "name": "python"
    }
  },
  "cells": [
    {
      "cell_type": "markdown",
      "source": [
        "# Welcome to the Tactcus guild raid notebook."
      ],
      "metadata": {
        "id": "23t_qym-xge_"
      }
    },
    {
      "cell_type": "markdown",
      "source": [
        "Imports. Please play all imports."
      ],
      "metadata": {
        "id": "0o4CBPrORG3C"
      }
    },
    {
      "cell_type": "code",
      "execution_count": null,
      "metadata": {
        "id": "7JUvAe0eP1Zl"
      },
      "outputs": [],
      "source": [
        "import requests\n",
        "import heapq\n",
        "from collections import Counter\n",
        "from tabulate import tabulate"
      ]
    },
    {
      "cell_type": "markdown",
      "source": [
        "Initialise functions. Please play initialise functions"
      ],
      "metadata": {
        "id": "Oi9p6CS8RRjc"
      }
    },
    {
      "cell_type": "code",
      "source": [
        "def getApi(url, API_key):\n",
        "  headers = {\n",
        "    \"accept\": \"application/json\",\n",
        "    \"X-API-KEY\":API_key\n",
        "    }\n",
        "\n",
        "  try:\n",
        "    response = requests.get(url, headers = headers)\n",
        "    if response.status_code == 200:\n",
        "      data = response.json()\n",
        "      return data\n",
        "    else:\n",
        "      print(f\"Error {response.status_code}. GET DA MEK\")\n",
        "      return None\n",
        "  except requests.exceptions.RequestException as e:\n",
        "    print(\"Error:\", e)\n",
        "    return None\n",
        "\n",
        "\n",
        "def getAttackCount(data, damageType):\n",
        "  user_ids = []\n",
        "  for e in data[\"entries\"]:\n",
        "      if e[\"damageType\"] == damageType:\n",
        "          user_ids.append(e[\"userId\"])\n",
        "\n",
        "  return Counter(user_ids)\n",
        "\n",
        "\n",
        "def displayAttact(user_counts, guild_members):\n",
        "  table = []\n",
        "  target = getNthBest(user_counts, 9)\n",
        "\n",
        "  for g in guild_members:\n",
        "\n",
        "    if g[\"key\"] in user_counts:\n",
        "      count = user_counts[g[\"key\"]]\n",
        "    else:\n",
        "      count = 0\n",
        "\n",
        "    if \"rank\" in g:\n",
        "      rank = g[\"rank\"]\n",
        "    elif count >= target:\n",
        "      rank = \"Nobz\"\n",
        "    elif count >= target//2:\n",
        "      rank = \"Boyz\"\n",
        "    else:\n",
        "      rank = \"Grot\"\n",
        "    table.append([g[\"name\"], count, rank])\n",
        "\n",
        "  print(tabulate(table, headers=[\"User Name\", \"Count\", \"Rank\"], tablefmt=\"github\"))\n",
        "\n",
        "\n",
        "def getNthBest(count, k):\n",
        "  heap = []\n",
        "  for key, val in count.items():\n",
        "    if len(heap) < k:\n",
        "      heapq.heappush(heap, val)\n",
        "    elif val > heap[0]:\n",
        "      heapq.heappushpop(heap, val)\n",
        "\n",
        "  return heap[0] if heap else None"
      ],
      "metadata": {
        "id": "ztDZdvKkRpF6"
      },
      "execution_count": null,
      "outputs": []
    },
    {
      "cell_type": "markdown",
      "source": [
        "Guild Data. This will need updating by hand. Please play\n",
        "<br>Format: {\"key\":\"\",\"name\":\"\", \"disord\":\"\", \"rank\":\"\", \"note\":\"\"},\n",
        "<br>discord, rank, and notes are optional"
      ],
      "metadata": {
        "id": "qIyksPU2WPbw"
      }
    },
    {
      "cell_type": "code",
      "source": [
        "guild_members = [\n",
        "\n",
        "  ]"
      ],
      "metadata": {
        "id": "jJfDCdD5V3rM"
      },
      "execution_count": null,
      "outputs": []
    },
    {
      "cell_type": "markdown",
      "source": [
        "Load APIs. Please load in Guild Raid API\n",
        "<br> format: API_key = \"keyvalue\""
      ],
      "metadata": {
        "id": "XAoq9OjdUGjY"
      }
    },
    {
      "cell_type": "code",
      "source": [
        "API_key =\n",
        "url = \"https://api.tacticusgame.com/api/v1/guildRaid\"\n",
        "\n",
        "data = getApi(url, API_key)"
      ],
      "metadata": {
        "id": "xsX0F5kzSP7m"
      },
      "execution_count": null,
      "outputs": []
    },
    {
      "cell_type": "markdown",
      "source": [
        "Display Attack Count. Please play"
      ],
      "metadata": {
        "id": "-6skWlE6jGu_"
      }
    },
    {
      "cell_type": "code",
      "source": [
        "boss_battle = getAttackCount(data, \"Battle\")\n",
        "displayAttact(boss_battle, guild_members)"
      ],
      "metadata": {
        "colab": {
          "base_uri": "https://localhost:8080/",
          "height": 159
        },
        "id": "w-xow6ikUcOA",
        "outputId": "7fdb9962-07f2-43da-f6b8-f7f010f09008"
      },
      "execution_count": 1,
      "outputs": [
        {
          "output_type": "error",
          "ename": "NameError",
          "evalue": "name 'getAttackCount' is not defined",
          "traceback": [
            "\u001b[0;31m---------------------------------------------------------------------------\u001b[0m",
            "\u001b[0;31mNameError\u001b[0m                                 Traceback (most recent call last)",
            "\u001b[0;32m<ipython-input-1-e68adefbc959>\u001b[0m in \u001b[0;36m<cell line: 0>\u001b[0;34m()\u001b[0m\n\u001b[0;32m----> 1\u001b[0;31m \u001b[0mboss_battle\u001b[0m \u001b[0;34m=\u001b[0m \u001b[0mgetAttackCount\u001b[0m\u001b[0;34m(\u001b[0m\u001b[0mdata\u001b[0m\u001b[0;34m,\u001b[0m \u001b[0;34m\"Battle\"\u001b[0m\u001b[0;34m)\u001b[0m\u001b[0;34m\u001b[0m\u001b[0;34m\u001b[0m\u001b[0m\n\u001b[0m\u001b[1;32m      2\u001b[0m \u001b[0mdisplayAttact\u001b[0m\u001b[0;34m(\u001b[0m\u001b[0mboss_battle\u001b[0m\u001b[0;34m,\u001b[0m \u001b[0mguild_members\u001b[0m\u001b[0;34m)\u001b[0m\u001b[0;34m\u001b[0m\u001b[0;34m\u001b[0m\u001b[0m\n",
            "\u001b[0;31mNameError\u001b[0m: name 'getAttackCount' is not defined"
          ]
        }
      ]
    }
  ]
}